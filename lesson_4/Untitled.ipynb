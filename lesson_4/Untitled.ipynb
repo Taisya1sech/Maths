{
 "cells": [
  {
   "cell_type": "markdown",
   "id": "10f35988",
   "metadata": {},
   "source": [
    "Зданаие к методичке 6"
   ]
  },
  {
   "cell_type": "markdown",
   "id": "10362679",
   "metadata": {},
   "source": [
    "Задание 2"
   ]
  },
  {
   "cell_type": "code",
   "execution_count": 5,
   "id": "ff86825f",
   "metadata": {},
   "outputs": [],
   "source": [
    "import numpy as np"
   ]
  },
  {
   "cell_type": "code",
   "execution_count": 4,
   "id": "c4c0f278",
   "metadata": {},
   "outputs": [
    {
     "name": "stdout",
     "output_type": "stream",
     "text": [
      "A:\n",
      "[[ 3 -1  1]\n",
      " [ 2 -5 -3]\n",
      " [ 1  1 -1]]\n",
      "\n",
      "A_ext:\n",
      "[[  3  -1   1   4]\n",
      " [  2  -5  -3 -17]\n",
      " [  1   1  -1   0]]\n",
      "\n",
      "rank(A): 3\n",
      "\n",
      "rank(A_ext): 3\n",
      "\n",
      "# of vars: 3\n",
      "\n",
      "Система имеет единственное решение.\n"
     ]
    }
   ],
   "source": [
    "A = np.array([[3, -1, 1], [2, -5, -3], [1, 1, -1]])\n",
    "b = np.array([4, -17, 0])\n",
    "A_ext = np.column_stack([A, b])\n",
    "\n",
    "rank_A = np.linalg.matrix_rank(A)\n",
    "rank_A_ext = np.linalg.matrix_rank(A_ext)\n",
    "n = len(A[0])\n",
    "\n",
    "print(f'A:\\n{A}\\n')\n",
    "print(f'A_ext:\\n{A_ext}\\n')\n",
    "\n",
    "print(f'rank(A): {rank_A}\\n')\n",
    "print(f'rank(A_ext): {rank_A_ext}\\n')\n",
    "print(f'# of vars: {n}\\n')\n",
    "\n",
    "if rank_A == rank_A_ext == n:\n",
    "    print(f'Система имеет единственное решение.')\n",
    "elif rank_A == rank_A_ext < n:\n",
    "    print(f'Система имеет бесконечное кол-во решений.')\n",
    "elif rank_A < rank_A_ext:\n",
    "    print(f'Система несовместна.')"
   ]
  },
  {
   "cell_type": "code",
   "execution_count": 6,
   "id": "0c7de63f",
   "metadata": {},
   "outputs": [
    {
     "name": "stdout",
     "output_type": "stream",
     "text": [
      "A:\n",
      "[[ 2 -4  6]\n",
      " [ 1 -2  3]\n",
      " [ 3 -6  9]]\n",
      "\n",
      "A_ext:\n",
      "[[ 2 -4  6  1]\n",
      " [ 1 -2  3 -2]\n",
      " [ 3 -6  9  5]]\n",
      "\n",
      "rank(A): 1\n",
      "\n",
      "rank(A_ext): 2\n",
      "\n",
      "# of vars: 3\n",
      "\n",
      "Система несовместна.\n"
     ]
    }
   ],
   "source": [
    "A = np.array([[2, -4, 6], [1, -2, 3], [3, -6, 9]])\n",
    "b = np.array([1, -2, 5])\n",
    "A_ext = np.column_stack([A, b])\n",
    "\n",
    "rank_A = np.linalg.matrix_rank(A)\n",
    "rank_A_ext = np.linalg.matrix_rank(A_ext)\n",
    "n = len(A[0])\n",
    "\n",
    "print(f'A:\\n{A}\\n')\n",
    "print(f'A_ext:\\n{A_ext}\\n')\n",
    "\n",
    "print(f'rank(A): {rank_A}\\n')\n",
    "print(f'rank(A_ext): {rank_A_ext}\\n')\n",
    "print(f'# of vars: {n}\\n')\n",
    "\n",
    "if rank_A == rank_A_ext == n:\n",
    "    print(f'Система имеет единственное решение.')\n",
    "elif rank_A == rank_A_ext < n:\n",
    "    print(f'Система имеет бесконечное кол-во решений.')\n",
    "elif rank_A < rank_A_ext:\n",
    "    print(f'Система несовместна.')"
   ]
  },
  {
   "cell_type": "code",
   "execution_count": 7,
   "id": "6c9342cf",
   "metadata": {},
   "outputs": [
    {
     "name": "stdout",
     "output_type": "stream",
     "text": [
      "A:\n",
      "[[ 1  2  5]\n",
      " [ 3  1 -8]]\n",
      "\n",
      "A_ext:\n",
      "[[ 1  2  5  4]\n",
      " [ 3  1 -8 -2]]\n",
      "\n",
      "rank(A): 2\n",
      "\n",
      "rank(A_ext): 2\n",
      "\n",
      "# of vars: 3\n",
      "\n",
      "Система имеет бесконечное кол-во решений.\n"
     ]
    }
   ],
   "source": [
    "A = np.array([[1, 2, 5], [3, 1, -8]])\n",
    "b = np.array([4, -2])\n",
    "A_ext = np.column_stack([A, b])\n",
    "\n",
    "rank_A = np.linalg.matrix_rank(A)\n",
    "rank_A_ext = np.linalg.matrix_rank(A_ext)\n",
    "n = len(A[0])\n",
    "\n",
    "print(f'A:\\n{A}\\n')\n",
    "print(f'A_ext:\\n{A_ext}\\n')\n",
    "\n",
    "print(f'rank(A): {rank_A}\\n')\n",
    "print(f'rank(A_ext): {rank_A_ext}\\n')\n",
    "print(f'# of vars: {n}\\n')\n",
    "\n",
    "if rank_A == rank_A_ext == n:\n",
    "    print(f'Система имеет единственное решение.')\n",
    "elif rank_A == rank_A_ext < n:\n",
    "    print(f'Система имеет бесконечное кол-во решений.')\n",
    "elif rank_A < rank_A_ext:\n",
    "    print(f'Система несовместна.')"
   ]
  },
  {
   "cell_type": "markdown",
   "id": "d70dd139",
   "metadata": {},
   "source": [
    "Задание 3"
   ]
  },
  {
   "cell_type": "code",
   "execution_count": 8,
   "id": "263189d4",
   "metadata": {},
   "outputs": [
    {
     "name": "stdout",
     "output_type": "stream",
     "text": [
      "A:\n",
      "[[ 1  3 -2  4]\n",
      " [ 0  5  0  1]\n",
      " [ 0  0  3  0]\n",
      " [ 0  0  0  2]]\n",
      "\n",
      "A_ext:\n",
      "[[ 1  3 -2  4  3]\n",
      " [ 0  5  0  1  2]\n",
      " [ 0  0  3  0  4]\n",
      " [ 0  0  0  2  1]]\n",
      "\n",
      "rank(A): 4\n",
      "\n",
      "rank(A_ext): 4\n",
      "\n",
      "# of vars: 4\n",
      "\n",
      "Система имеет единственное решение.\n"
     ]
    }
   ],
   "source": [
    "A = np.array([[1, 3, -2, 4], [0, 5, 0, 1], [0, 0, 3, 0], [0, 0, 0, 2]])\n",
    "b = np.array([3, 2, 4, 1])\n",
    "A_ext = np.column_stack([A, b])\n",
    "\n",
    "rank_A = np.linalg.matrix_rank(A)\n",
    "rank_A_ext = np.linalg.matrix_rank(A_ext)\n",
    "n = len(A[0])\n",
    "\n",
    "print(f'A:\\n{A}\\n')\n",
    "print(f'A_ext:\\n{A_ext}\\n')\n",
    "\n",
    "print(f'rank(A): {rank_A}\\n')\n",
    "print(f'rank(A_ext): {rank_A_ext}\\n')\n",
    "print(f'# of vars: {n}\\n')\n",
    "\n",
    "if rank_A == rank_A_ext == n:\n",
    "    print(f'Система имеет единственное решение.')\n",
    "elif rank_A == rank_A_ext < n:\n",
    "    print(f'Система имеет бесконечное кол-во решений.')\n",
    "elif rank_A < rank_A_ext:\n",
    "    print(f'Система несовместна.')"
   ]
  },
  {
   "cell_type": "markdown",
   "id": "b23af3f1",
   "metadata": {},
   "source": [
    "Задание к методичке 7"
   ]
  },
  {
   "cell_type": "code",
   "execution_count": 9,
   "id": "329bcaec",
   "metadata": {},
   "outputs": [],
   "source": [
    "import scipy.linalg"
   ]
  },
  {
   "cell_type": "markdown",
   "id": "ee5dd07b",
   "metadata": {},
   "source": [
    "Задание 1.a)"
   ]
  },
  {
   "cell_type": "code",
   "execution_count": 10,
   "id": "6f52ac64",
   "metadata": {},
   "outputs": [
    {
     "name": "stdout",
     "output_type": "stream",
     "text": [
      "A:\n",
      "[[ 1 -2]\n",
      " [ 3 -4]]\n",
      "\n",
      "b:\n",
      "[1 7]\n",
      "\n",
      "det(A): 2.0000000000000004\n",
      "\n",
      "Определитель матрицы квадратной системы не равен 0, система совместна и имеет единственное решение.\n",
      "\n",
      "A1:\n",
      "[[ 1 -2]\n",
      " [ 7 -4]]\n",
      "\n",
      "det(A1): 9.999999999999998\n",
      "\n",
      "A2:\n",
      "[[1 1]\n",
      " [3 7]]\n",
      "\n",
      "det(A2): 3.999999999999999\n",
      "\n",
      "x1 = 4.999999999999998\n",
      "x2 = 1.9999999999999991\n"
     ]
    }
   ],
   "source": [
    "A = np.array([[1, -2], [3, -4]])\n",
    "b = np.array([1, 7])\n",
    "\n",
    "det_A = np.linalg.det(A)\n",
    "\n",
    "print(f'A:\\n{A}\\n')\n",
    "print(f'b:\\n{b}\\n')\n",
    "\n",
    "print(f'det(A): {det_A}\\n')\n",
    "\n",
    "if det_A != 0:\n",
    "    print(f'Определитель матрицы квадратной системы не равен 0, система совместна и имеет единственное решение.\\n')\n",
    "\n",
    "A1 = np.column_stack([b, A[:, 1]])\n",
    "det_A1 = np.linalg.det(A1)\n",
    "\n",
    "print(f'A1:\\n{A1}\\n')\n",
    "print(f'det(A1): {det_A1}\\n')\n",
    "\n",
    "A2 = np.column_stack([A[:, 0], b])\n",
    "det_A2 = np.linalg.det(A2)\n",
    "\n",
    "print(f'A2:\\n{A2}\\n')\n",
    "print(f'det(A2): {det_A2}\\n')\n",
    "\n",
    "print(f'x1 = {det_A1 / det_A}')\n",
    "print(f'x2 = {det_A2 / det_A}')"
   ]
  },
  {
   "cell_type": "markdown",
   "id": "21495088",
   "metadata": {},
   "source": [
    "Задание 1.б)"
   ]
  },
  {
   "cell_type": "code",
   "execution_count": 11,
   "id": "ee6c268b",
   "metadata": {},
   "outputs": [
    {
     "name": "stdout",
     "output_type": "stream",
     "text": [
      "A:\n",
      "[[ 2 -1  5]\n",
      " [ 1  1 -3]\n",
      " [ 2  4  1]]\n",
      "\n",
      "b:\n",
      "[10 -2  1]\n",
      "\n",
      "det(A): 42.99999999999998\n",
      "\n",
      "Определитель матрицы квадратной системы не равен 0, система совместна и имеет единственное решение.\n",
      "\n",
      "A1:\n",
      "[[10 -1  5]\n",
      " [-2  1 -3]\n",
      " [ 1  4  1]]\n",
      "\n",
      "det(A1): 86.00000000000004\n",
      "\n",
      "A2:\n",
      "[[ 2 10  5]\n",
      " [ 1 -2 -3]\n",
      " [ 2  1  1]]\n",
      "\n",
      "det(A2): -43.000000000000014\n",
      "\n",
      "A3:\n",
      "[[ 2 -1 10]\n",
      " [ 1  1 -2]\n",
      " [ 2  4  1]]\n",
      "\n",
      "det(A3): 42.99999999999998\n",
      "\n",
      "x1 = 2.0000000000000018\n",
      "x2 = -1.0000000000000009\n",
      "x3 = 1.0\n"
     ]
    }
   ],
   "source": [
    "A = np.array([[2, -1, 5], [1, 1, -3], [2, 4, 1]])\n",
    "b = np.array([10, -2, 1])\n",
    "\n",
    "det_A = np.linalg.det(A)\n",
    "\n",
    "print(f'A:\\n{A}\\n')\n",
    "print(f'b:\\n{b}\\n')\n",
    "\n",
    "print(f'det(A): {det_A}\\n')\n",
    "\n",
    "if det_A != 0:\n",
    "    print(f'Определитель матрицы квадратной системы не равен 0, система совместна и имеет единственное решение.\\n')\n",
    "\n",
    "A1 = np.column_stack([b, A[:, 1:]])\n",
    "det_A1 = np.linalg.det(A1)\n",
    "\n",
    "print(f'A1:\\n{A1}\\n')\n",
    "print(f'det(A1): {det_A1}\\n')\n",
    "\n",
    "A2 = np.column_stack([A[:, 0], b, A[:, 2]])\n",
    "det_A2 = np.linalg.det(A2)\n",
    "\n",
    "print(f'A2:\\n{A2}\\n')\n",
    "print(f'det(A2): {det_A2}\\n')\n",
    "\n",
    "A3 = np.column_stack([A[:, 0:2], b])\n",
    "det_A3 = np.linalg.det(A3)\n",
    "\n",
    "print(f'A3:\\n{A3}\\n')\n",
    "print(f'det(A3): {det_A3}\\n')\n",
    "\n",
    "print(f'x1 = {det_A1 / det_A}')\n",
    "print(f'x2 = {det_A2 / det_A}')\n",
    "print(f'x3 = {det_A3 / det_A}')"
   ]
  },
  {
   "cell_type": "markdown",
   "id": "8683c973",
   "metadata": {},
   "source": [
    "Задание 3"
   ]
  },
  {
   "cell_type": "code",
   "execution_count": 24,
   "id": "1618af02",
   "metadata": {},
   "outputs": [],
   "source": [
    "from scipy.linalg import lu, lu_factor, lu_solve"
   ]
  },
  {
   "cell_type": "code",
   "execution_count": 26,
   "id": "8b6f4445",
   "metadata": {},
   "outputs": [
    {
     "name": "stdout",
     "output_type": "stream",
     "text": [
      "A:\n",
      "[[ 2  1  3]\n",
      " [11  7  5]\n",
      " [ 9  8  4]]\n",
      "\n",
      "b:\n",
      "[ 1 -6 -5]\n",
      "\n",
      "x:\n",
      "[-1.  0.  1.]\n",
      "\n",
      "Ax:\n",
      "[ 1. -6. -5.]\n",
      "\n",
      "Ax - b:\n",
      "[0. 0. 0.]\n",
      "\n",
      "lu:\n",
      "[[11.          7.          5.        ]\n",
      " [ 0.81818182  2.27272727 -0.09090909]\n",
      " [ 0.18181818 -0.12        2.08      ]]\n",
      "\n",
      "piv:\n",
      "[1 2 2]\n",
      "\n"
     ]
    }
   ],
   "source": [
    "A = np.array([[2, 1, 3], [11, 7, 5], [9, 8, 4]])\n",
    "b = np.array([1, -6, -5])\n",
    "\n",
    "lu, piv = scipy.linalg.lu_factor(A)\n",
    "x = scipy.linalg.lu_solve((lu, piv), b)\n",
    "\n",
    "print(f'A:\\n{A}\\n')\n",
    "print(f'b:\\n{b}\\n')\n",
    "print(f'x:\\n{x}\\n')\n",
    "print(f'Ax:\\n{A @ x}\\n')\n",
    "print(f'Ax - b:\\n{A @ x - b}\\n')\n",
    "\n",
    "print(f'lu:\\n{lu}\\n')\n",
    "print(f'piv:\\n{piv}\\n')"
   ]
  },
  {
   "cell_type": "markdown",
   "id": "1af1ea6b",
   "metadata": {},
   "source": [
    "Задание 4"
   ]
  },
  {
   "cell_type": "code",
   "execution_count": 27,
   "id": "58dbbb60",
   "metadata": {},
   "outputs": [
    {
     "name": "stdout",
     "output_type": "stream",
     "text": [
      "A:\n",
      "[[ 81 -45  45]\n",
      " [-45  50 -15]\n",
      " [ 45 -15  38]]\n",
      "\n",
      "K:\n",
      "(array([[  9.,  -5.,   5.],\n",
      "       [-45.,   5.,   2.],\n",
      "       [ 45., -15.,   3.]]), False)\n",
      "\n",
      "b:\n",
      "[ 531 -460  193]\n",
      "\n",
      "x:\n",
      "[ 6. -5. -4.]\n",
      "\n",
      "Ax:\n",
      "[ 531. -460.  193.]\n",
      "\n",
      "Ax - b:\n",
      "[0. 0. 0.]\n",
      "\n"
     ]
    }
   ],
   "source": [
    "A = np.array([[81, -45, 45], [-45, 50, -15], [45, -15, 38]])\n",
    "b = np.array([531, -460, 193])\n",
    "\n",
    "K = scipy.linalg.cho_factor(A)\n",
    "x = scipy.linalg.cho_solve(K, b)\n",
    "\n",
    "print(f'A:\\n{A}\\n')\n",
    "print(f'K:\\n{K}\\n')\n",
    "print(f'b:\\n{b}\\n')\n",
    "print(f'x:\\n{x}\\n')\n",
    "print(f'Ax:\\n{A @ x}\\n')\n",
    "print(f'Ax - b:\\n{A @ x - b}\\n')"
   ]
  },
  {
   "cell_type": "markdown",
   "id": "a55d0e18",
   "metadata": {},
   "source": [
    "Задание 5"
   ]
  },
  {
   "cell_type": "code",
   "execution_count": null,
   "id": "1e9f3086",
   "metadata": {},
   "outputs": [],
   "source": []
  }
 ],
 "metadata": {
  "kernelspec": {
   "display_name": "Python 3 (ipykernel)",
   "language": "python",
   "name": "python3"
  },
  "language_info": {
   "codemirror_mode": {
    "name": "ipython",
    "version": 3
   },
   "file_extension": ".py",
   "mimetype": "text/x-python",
   "name": "python",
   "nbconvert_exporter": "python",
   "pygments_lexer": "ipython3",
   "version": "3.9.2"
  }
 },
 "nbformat": 4,
 "nbformat_minor": 5
}
