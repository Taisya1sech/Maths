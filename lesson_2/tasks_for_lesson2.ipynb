{
 "cells": [
  {
   "cell_type": "markdown",
   "id": "32e0d87f",
   "metadata": {},
   "source": [
    "Дз к методичке 3"
   ]
  },
  {
   "cell_type": "markdown",
   "id": "3ba133c2",
   "metadata": {},
   "source": [
    "1. Установить, какие произведения матриц  AB  и  BA  определены, и найти размерности полученных матриц:\n",
    "\n",
    "а)  A  — матрица  4×2 ,  B  — матрица  4×2 ;\n",
    "\n",
    "б)  A  — матрица  2×5 ,  B  — матрица  5×3 ;\n",
    "\n",
    "в)  A  — матрица  8×3 ,  B  — матрица  3×8 ;\n",
    "\n",
    "г)  A  — квадратная матрица  4×4 ,  B  — квадратная матрица  4×4 .\n",
    "\n"
   ]
  },
  {
   "cell_type": "markdown",
   "id": "73c5562d",
   "metadata": {},
   "source": [
    "а) перемножить нельзя б) AB 2х3 в) AB 8х8, BA 3х3 г)AB BA 4х4"
   ]
  },
  {
   "cell_type": "markdown",
   "id": "9fab2521",
   "metadata": {},
   "source": [
    "2. Найти сумму и произведение матриц."
   ]
  },
  {
   "cell_type": "code",
   "execution_count": 4,
   "id": "ace351fa",
   "metadata": {},
   "outputs": [],
   "source": [
    "import numpy as np\n"
   ]
  },
  {
   "cell_type": "code",
   "execution_count": 5,
   "id": "17810eb9",
   "metadata": {},
   "outputs": [
    {
     "name": "stdout",
     "output_type": "stream",
     "text": [
      "Матрица A\n",
      "[[ 1 -2]\n",
      " [ 3  0]]\n",
      "Матрица B\n",
      "[[ 4 -1]\n",
      " [ 0  5]]\n",
      "Матрица C = A + B\n",
      "[[ 5 -3]\n",
      " [ 3  5]]\n",
      "Матрица AB\n",
      "[[  4 -11]\n",
      " [ 12  -3]]\n",
      "Матрица BA\n",
      "[[ 1 -8]\n",
      " [15  0]]\n"
     ]
    }
   ],
   "source": [
    "A = np.array([[1, -2], [3, 0]])\n",
    "B = np.array([[4, -1], [0, 5]])\n",
    "print(f'Матрица A\\n{A}')\n",
    "print(f'Матрица B\\n{B}')\n",
    "print(f'Матрица C = A + B\\n{A + B}')\n",
    "print(f'Матрица AB\\n{np.dot(A, B)}')\n",
    "print(f'Матрица BA\\n{np.dot(B, A)}')"
   ]
  },
  {
   "cell_type": "markdown",
   "id": "326de983",
   "metadata": {},
   "source": [
    "3. Вычислить линейную комбинацию  3A−2B+4C"
   ]
  },
  {
   "cell_type": "code",
   "execution_count": 6,
   "id": "fd12bf1e",
   "metadata": {},
   "outputs": [
    {
     "name": "stdout",
     "output_type": "stream",
     "text": [
      "Матрица 3A-2B+4C\n",
      "[[ 11  -5]\n",
      " [  9 -12]]\n"
     ]
    }
   ],
   "source": [
    "A = np.array([[1, 7], [3, -6]])\n",
    "B = np.array([[0, 5], [2, -1]])\n",
    "C = np.array([[2, -4], [1, 1]])\n",
    "print(f'Матрица 3A-2B+4C\\n{3*A-2*B+4*C}')"
   ]
  },
  {
   "cell_type": "markdown",
   "id": "99aab31b",
   "metadata": {},
   "source": [
    "4."
   ]
  },
  {
   "cell_type": "code",
   "execution_count": 7,
   "id": "176012f2",
   "metadata": {},
   "outputs": [
    {
     "name": "stdout",
     "output_type": "stream",
     "text": [
      "Матрица:\n",
      "[[ 4  1]\n",
      " [ 5 -2]\n",
      " [ 2  3]]\n",
      "Транспонированная матрица:\n",
      "[[ 4  5  2]\n",
      " [ 1 -2  3]]\n",
      "Матрица A*AT\n",
      "[[17 18 11]\n",
      " [18 29  4]\n",
      " [11  4 13]]\n",
      "Матрица A\n",
      "[[45  0]\n",
      " [ 0 14]]\n"
     ]
    }
   ],
   "source": [
    "A = np.array([[4, 1], [5, -2], [2, 3]])\n",
    "print(f'Матрица:\\n{A}')\n",
    "print(f'Транспонированная матрица:\\n{A.T}')\n",
    "print(f'Матрица A*AT\\n{np.dot(A, A.T)}')\n",
    "print(f'Матрица A\\n{np.dot(A.T, A)}')"
   ]
  },
  {
   "cell_type": "markdown",
   "id": "2c655ea2",
   "metadata": {},
   "source": [
    "Дз к методичке 4"
   ]
  },
  {
   "cell_type": "markdown",
   "id": "0e4e1717",
   "metadata": {},
   "source": [
    "4."
   ]
  },
  {
   "cell_type": "code",
   "execution_count": 8,
   "id": "96b7830c",
   "metadata": {},
   "outputs": [],
   "source": [
    "import numpy as np"
   ]
  },
  {
   "cell_type": "code",
   "execution_count": 9,
   "id": "105c3ef7",
   "metadata": {},
   "outputs": [
    {
     "name": "stdout",
     "output_type": "stream",
     "text": [
      "Ранг матрицы: 2\n"
     ]
    }
   ],
   "source": [
    "x = [1, 2, 3]\n",
    "y = [1, 1, 1]\n",
    "z = [2, 3, 4]\n",
    "\n",
    "a = np.array([x, y, z])\n",
    "r = np.linalg.matrix_rank(a)\n",
    "\n",
    "print(f'Ранг матрицы: {r}')"
   ]
  },
  {
   "cell_type": "code",
   "execution_count": 10,
   "id": "ea6b4527",
   "metadata": {},
   "outputs": [
    {
     "name": "stdout",
     "output_type": "stream",
     "text": [
      "Ранг матрицы: 3\n"
     ]
    }
   ],
   "source": [
    "x = [0, 0, 2, 1]\n",
    "y = [0, 0, 2, 2]\n",
    "z = [0, 0, 4, 3]\n",
    "z = [2, 3, 5, 6]\n",
    "\n",
    "a = np.array([x, y, z])\n",
    "r = np.linalg.matrix_rank(a)\n",
    "\n",
    "print(f'Ранг матрицы: {r}')"
   ]
  },
  {
   "cell_type": "code",
   "execution_count": null,
   "id": "8c6c7ddb",
   "metadata": {},
   "outputs": [],
   "source": []
  }
 ],
 "metadata": {
  "kernelspec": {
   "display_name": "Python 3 (ipykernel)",
   "language": "python",
   "name": "python3"
  },
  "language_info": {
   "codemirror_mode": {
    "name": "ipython",
    "version": 3
   },
   "file_extension": ".py",
   "mimetype": "text/x-python",
   "name": "python",
   "nbconvert_exporter": "python",
   "pygments_lexer": "ipython3",
   "version": "3.9.2"
  }
 },
 "nbformat": 4,
 "nbformat_minor": 5
}
