{
 "cells": [
  {
   "cell_type": "code",
   "execution_count": 2,
   "id": "3de86b41",
   "metadata": {},
   "outputs": [],
   "source": [
    "#task 1"
   ]
  },
  {
   "cell_type": "code",
   "execution_count": 3,
   "id": "a7345fc8",
   "metadata": {},
   "outputs": [],
   "source": [
    "%matplotlib inline\n",
    "import numpy as np"
   ]
  },
  {
   "cell_type": "code",
   "execution_count": null,
   "id": "629b105e",
   "metadata": {},
   "outputs": [],
   "source": [
    "!pip install keyboard"
   ]
  },
  {
   "cell_type": "code",
   "execution_count": null,
   "id": "61c8f3d0",
   "metadata": {},
   "outputs": [],
   "source": [
    "for i in range(0, 100):\n",
    "    a = input()\n",
    "    x = np.random.uniform(0, 36)\n",
    "    if x==0:\n",
    "        print(\"green\")\n",
    "    elif x<18:\n",
    "        print(\"red\")\n",
    "    else:\n",
    "        print(\"black\")"
   ]
  },
  {
   "cell_type": "code",
   "execution_count": null,
   "id": "e83e2b3f",
   "metadata": {},
   "outputs": [],
   "source": [
    "#task 2.1"
   ]
  },
  {
   "cell_type": "code",
   "execution_count": null,
   "id": "e883d009",
   "metadata": {},
   "outputs": [],
   "source": [
    "k,m,l = 0, 0, 0\n",
    "n = 100\n",
    "for i in range(0, n):\n",
    "    x = np.random.uniform(0, 10)\n",
    "    l=l+1\n",
    "    if x<5:\n",
    "        k = k + 1 \n",
    "    else:\n",
    "        m = m + 1\n",
    "if k+m==l:\n",
    "    print(True)\n",
    "else:\n",
    "    print(False)\n",
    "print(k,m,l)"
   ]
  },
  {
   "cell_type": "code",
   "execution_count": null,
   "id": "3dbdf51f",
   "metadata": {},
   "outputs": [],
   "source": [
    "# task 2.2"
   ]
  },
  {
   "cell_type": "code",
   "execution_count": null,
   "id": "9f6dbdcb",
   "metadata": {},
   "outputs": [],
   "source": [
    "allsums=[]\n",
    "for i in range(11):\n",
    "    x=np.random.rand(10)\n",
    "    allsums.append(sum(x))\n",
    "    i+=1\n",
    "num_bins = 10\n",
    "n, bins, patches = plt.hist(allsums, num_bins)\n",
    "plt.xlabel('summa')\n",
    "plt.ylabel('Probability')\n",
    "plt.title('Histogram')"
   ]
  },
  {
   "cell_type": "code",
   "execution_count": null,
   "id": "d858d00f",
   "metadata": {},
   "outputs": [],
   "source": [
    "# task 4"
   ]
  },
  {
   "cell_type": "code",
   "execution_count": null,
   "id": "5006741b",
   "metadata": {},
   "outputs": [],
   "source": [
    "import numpy as np\n",
    "import intertools\n",
    "import sys\n",
    "import math"
   ]
  },
  {
   "cell_type": "code",
   "execution_count": null,
   "id": "96d04fcf",
   "metadata": {},
   "outputs": [],
   "source": [
    "k, n = 0, 10000\n",
    "a = np.random.randint(0, 2, n)\n",
    "b = np.random.randint(0, 2, n)\n",
    "c = np.random.randint(0, 2, n)\n",
    "d = np.random.randint(0, 2, n)\n",
    "x = a + b + c + d\n",
    "for i in range(0, n):\n",
    "    if x[i] == 2:\n",
    "        k = k + 1\n",
    "v=(0.5**k)*(0.5**(n-k))\n",
    "#print(a, b, c, d)\n",
    "#print(x)\n",
    "print(k, n, k/n,v)"
   ]
  },
  {
   "cell_type": "code",
   "execution_count": null,
   "id": "648a7790",
   "metadata": {},
   "outputs": [],
   "source": [
    "# task 3"
   ]
  },
  {
   "cell_type": "code",
   "execution_count": null,
   "id": "46a7249d",
   "metadata": {},
   "outputs": [],
   "source": [
    "import numpy as np\n",
    "import intertools"
   ]
  },
  {
   "cell_type": "code",
   "execution_count": null,
   "id": "9022bc0f",
   "metadata": {},
   "outputs": [],
   "source": [
    "for p in intertools.product\"01234\", repeat=6):\n",
    "    print(''.join(p))"
   ]
  },
  {
   "cell_type": "code",
   "execution_count": null,
   "id": "0edb1377",
   "metadata": {},
   "outputs": [],
   "source": [
    "# task 5"
   ]
  },
  {
   "cell_type": "code",
   "execution_count": null,
   "id": "4cfb596c",
   "metadata": {},
   "outputs": [],
   "source": [
    "%matplotlib inline\n",
    "import numpy as np\n",
    "import matplotlib.pyplot as plt"
   ]
  },
  {
   "cell_type": "code",
   "execution_count": null,
   "id": "3c6bad81",
   "metadata": {},
   "outputs": [],
   "source": [
    "x = np.linspace(-2, 3, 21)\n",
    "plt.plot(x, x**2-1, 'ro-')\n",
    "plt.xlabel('x')\n",
    "plt.ylabel('y')\n",
    "plt.ylim(-1, 8)\n",
    "plt.grid(True)\n",
    "plt.show()"
   ]
  },
  {
   "cell_type": "code",
   "execution_count": null,
   "id": "b5df6e28",
   "metadata": {},
   "outputs": [],
   "source": [
    "n = 100\n",
    "r = 0.9\n",
    "x = np.random.rand(n)\n",
    "y = r*x + (1 - r)*np.random.rand(n)\n",
    "plt.plot(x, y, 'o')\n",
    "plt.xlabel('x')\n",
    "plt.ylabel('y')\n",
    "plt.grid(True)\n",
    "plt.show()\n",
    "c = np.corrcoef(x, y)\n",
    "с2 = np.sum(x)\n",
    "(np.sum(x)*np.sum(y) - n*np.sum(x*y))/(np.sum(x)*np.sum(x) - n*np.sum(x*x))\n",
    "print(c)"
   ]
  },
  {
   "cell_type": "code",
   "execution_count": null,
   "id": "77f43cf2",
   "metadata": {},
   "outputs": [],
   "source": [
    "n = 100\n",
    "r = 0.7\n",
    "x = np.random.rand(n)\n",
    "y = r*x + (1 - r)*np.random.rand(n)\n",
    "plt.plot(x, y, 'o')\n",
    "plt.xlabel('x')\n",
    "plt.ylabel('y')\n",
    "plt.grid(True)\n",
    "\n",
    "a = (np.sum(x)*np.sum(y) - n*np.sum(x*y))/(np.sum(x)*np.sum(x) - n*np.sum(x*x))\n",
    "b = (np.sum(y) - a*np.sum(x))/n\n",
    "\n",
    "A = np.vstack([x, np.ones(len(x))]).T\n",
    "a1, b1 = np.linalg.lstsq(A, y)[0]\n",
    "print(a, b)\n",
    "print(a1, b1)\n",
    "\n",
    "plt.plot([0, 1], [b, a + b])\n",
    "plt.show()\n",
    "\n"
   ]
  },
  {
   "cell_type": "code",
   "execution_count": null,
   "id": "21fc5c8f",
   "metadata": {},
   "outputs": [],
   "source": [
    "  a = np.random.randint(0, 37)\n",
    "    print(a)"
   ]
  }
 ],
 "metadata": {
  "kernelspec": {
   "display_name": "Python 3 (ipykernel)",
   "language": "python",
   "name": "python3"
  },
  "language_info": {
   "codemirror_mode": {
    "name": "ipython",
    "version": 3
   },
   "file_extension": ".py",
   "mimetype": "text/x-python",
   "name": "python",
   "nbconvert_exporter": "python",
   "pygments_lexer": "ipython3",
   "version": "3.9.6"
  }
 },
 "nbformat": 4,
 "nbformat_minor": 5
}
