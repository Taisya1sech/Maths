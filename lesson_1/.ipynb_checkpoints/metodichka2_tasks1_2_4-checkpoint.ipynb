{
 "cells": [
  {
   "cell_type": "code",
   "execution_count": 1,
   "id": "8bf0e566",
   "metadata": {},
   "outputs": [],
   "source": [
    "import numpy as np\n",
    "from numpy.linalg import norm\n",
    "import matplotlib.pyplot as plt"
   ]
  },
  {
   "cell_type": "code",
   "execution_count": 5,
   "id": "376310c7",
   "metadata": {},
   "outputs": [],
   "source": [
    "# 1 Найти скалярное произведение векторов\n",
    "# 1.a)\n",
    "x = np.array([0, -3, 6])\n",
    "y = np.array([-4, 7, 9])"
   ]
  },
  {
   "cell_type": "code",
   "execution_count": 3,
   "id": "520db600",
   "metadata": {},
   "outputs": [
    {
     "name": "stdout",
     "output_type": "stream",
     "text": [
      "(x, y)\t33\n"
     ]
    }
   ],
   "source": [
    "print(f'(x, y)\\t{x.dot(y)}')"
   ]
  },
  {
   "cell_type": "code",
   "execution_count": 6,
   "id": "88446f8d",
   "metadata": {},
   "outputs": [],
   "source": [
    "# 1.б)\n",
    "x = np.array([7, -4, 0, 1])\n",
    "y = np.array([-3, 1, 11, 2])"
   ]
  },
  {
   "cell_type": "code",
   "execution_count": 7,
   "id": "e202a662",
   "metadata": {},
   "outputs": [
    {
     "name": "stdout",
     "output_type": "stream",
     "text": [
      "(x, y)\t-23\n"
     ]
    }
   ],
   "source": [
    "print(f'(x, y)\\t{x.dot(y)}')"
   ]
  },
  {
   "cell_type": "code",
   "execution_count": 8,
   "id": "368f946e",
   "metadata": {},
   "outputs": [],
   "source": [
    "# 2 Найти нормы векторов и угол между ними\n",
    "a = np.array([4, 2, 4,])\n",
    "b = np.array([12, 3, 4,])"
   ]
  },
  {
   "cell_type": "code",
   "execution_count": 9,
   "id": "698dda23",
   "metadata": {},
   "outputs": [
    {
     "name": "stdout",
     "output_type": "stream",
     "text": [
      "l1 норма вектора a:\t10.0\n",
      "l1 норма вектора b:\t19.0\n"
     ]
    }
   ],
   "source": [
    "print(f'l1 норма вектора a:\\t{norm(a, ord=1)}') # манхэттенская норма (сумма координат по модулю)\n",
    "print(f'l1 норма вектора b:\\t{norm(b, ord=1)}') # манхэттенская норма (сумма координат по модулю)"
   ]
  },
  {
   "cell_type": "code",
   "execution_count": 10,
   "id": "7ca86734",
   "metadata": {},
   "outputs": [
    {
     "name": "stdout",
     "output_type": "stream",
     "text": [
      "l2 норма вектора a:\t6.0\n",
      "l2 норма вектора b:\t13.0\n"
     ]
    }
   ],
   "source": [
    "print(f'l2 норма вектора a:\\t{norm(a, ord=2)}') # норма Евклида (сумма координат по модулю)\n",
    "print(f'l2 норма вектора b:\\t{norm(b, ord=2)}') # норма Евклида (сумма координат по модулю)"
   ]
  },
  {
   "cell_type": "code",
   "execution_count": 12,
   "id": "e19ed9bc",
   "metadata": {},
   "outputs": [
    {
     "name": "stdout",
     "output_type": "stream",
     "text": [
      "Косинус угла между a и b: 0.90\n",
      "Угол между a и b: 0.46\n"
     ]
    }
   ],
   "source": [
    "cos_phi = np.dot(a, b) / norm(a) / norm(b)\n",
    "print(f'Косинус угла между a и b: {cos_phi:.2f}')\n",
    "print(f'Угол между a и b: {np.arccos(cos_phi):.2f}')\n"
   ]
  },
  {
   "cell_type": "markdown",
   "id": "2f419250",
   "metadata": {},
   "source": [
    "4.   \n",
    "a) Образуют ортонормированный базис в R3, но не является базисом R3 (количество векторов в пространстве R3 должно быть равно трем)  \n",
    "     "
   ]
  },
  {
   "cell_type": "markdown",
   "id": "09b15681",
   "metadata": {},
   "source": [
    "   б) Образуют ортонормированный базис, так как выполняются условия (ei, ej)=0 Ɐ i≠j (ei, ej)=1 Ɐ i ∈ [1,n] (умножение векторов самих на себядает 1, друг на друга - 0)\n"
   ]
  },
  {
   "cell_type": "code",
   "execution_count": 19,
   "id": "024cb405",
   "metadata": {},
   "outputs": [],
   "source": [
    "a = np.array([1/(2)**0.5, -1/(2)**0.5, 0])\n",
    "b = np.array([1/(2)**0.5, 1/(2)**0.5, 0])\n",
    "c = np.array([0, 0, 1])"
   ]
  },
  {
   "cell_type": "code",
   "execution_count": 20,
   "id": "4c415855",
   "metadata": {},
   "outputs": [
    {
     "name": "stdout",
     "output_type": "stream",
     "text": [
      "(a, a)= 1\n",
      "(b, b)= 1\n",
      "(c, c)= 1\n"
     ]
    }
   ],
   "source": [
    "print(f'(a, a)= {a.dot(a):1.0f}')\n",
    "print(f'(b, b)= {b.dot(b):1.0f}')\n",
    "print(f'(c, c)= {c.dot(c):1.0f}')"
   ]
  },
  {
   "cell_type": "code",
   "execution_count": 21,
   "id": "a1544a17",
   "metadata": {},
   "outputs": [
    {
     "name": "stdout",
     "output_type": "stream",
     "text": [
      "(a, b)= 0.0\n",
      "(a, c)= 0.0\n",
      "(c, b)= 0.0\n"
     ]
    }
   ],
   "source": [
    "print(f'(a, b)= {a.dot(b)}')\n",
    "print(f'(a, c)= {a.dot(c)}')\n",
    "print(f'(c, b)= {c.dot(b)}')"
   ]
  },
  {
   "cell_type": "markdown",
   "id": "665b93ae",
   "metadata": {},
   "source": [
    "в) Не образуют ортонормированный базис, так как не выполняются условия (ei, ej)=0 Ɐ i≠j (ei, ej)=1 Ɐ i ∈ [1,n] "
   ]
  },
  {
   "cell_type": "code",
   "execution_count": 22,
   "id": "6fa94ebc",
   "metadata": {},
   "outputs": [],
   "source": [
    "a = np.array([1/2, -1/2, 0])\n",
    "b = np.array([0, 1/2, 1/2])\n",
    "c = np.array([0, 0, 1])"
   ]
  },
  {
   "cell_type": "code",
   "execution_count": 23,
   "id": "af18ab5c",
   "metadata": {},
   "outputs": [
    {
     "name": "stdout",
     "output_type": "stream",
     "text": [
      "(a, a)= 0\n",
      "(b, b)= 0\n",
      "(c, c)= 1\n"
     ]
    }
   ],
   "source": [
    "print(f'(a, a)= {a.dot(a):1.0f}')\n",
    "print(f'(b, b)= {b.dot(b):1.0f}')\n",
    "print(f'(c, c)= {c.dot(c):1.0f}')"
   ]
  },
  {
   "cell_type": "code",
   "execution_count": 24,
   "id": "daf3d9d9",
   "metadata": {},
   "outputs": [
    {
     "name": "stdout",
     "output_type": "stream",
     "text": [
      "(a, b)= -0.25\n",
      "(a, c)= 0.0\n",
      "(c, b)= 0.5\n"
     ]
    }
   ],
   "source": [
    "print(f'(a, b)= {a.dot(b)}')\n",
    "print(f'(a, c)= {a.dot(c)}')\n",
    "print(f'(c, b)= {c.dot(b)}')"
   ]
  },
  {
   "cell_type": "markdown",
   "id": "4ff7c39f",
   "metadata": {},
   "source": [
    "г) Образуют ортонормированный базис, так как выполняются условия (ei, ej)=0 Ɐ i≠j (ei, ej)=1 Ɐ i ∈ [1,n] (умножение векторов самих на себядает 1, друг на друга - 0)"
   ]
  },
  {
   "cell_type": "code",
   "execution_count": 25,
   "id": "7f43b36a",
   "metadata": {},
   "outputs": [],
   "source": [
    "a = np.array([1, 0, 0])\n",
    "b = np.array([0, 1, 0])\n",
    "c = np.array([0, 0, 1])"
   ]
  },
  {
   "cell_type": "code",
   "execution_count": 26,
   "id": "81b47c3b",
   "metadata": {},
   "outputs": [
    {
     "name": "stdout",
     "output_type": "stream",
     "text": [
      "(a, a)= 1\n",
      "(b, b)= 1\n",
      "(c, c)= 1\n"
     ]
    }
   ],
   "source": [
    "print(f'(a, a)= {a.dot(a):1.0f}')\n",
    "print(f'(b, b)= {b.dot(b):1.0f}')\n",
    "print(f'(c, c)= {c.dot(c):1.0f}')"
   ]
  },
  {
   "cell_type": "code",
   "execution_count": 27,
   "id": "56050034",
   "metadata": {},
   "outputs": [
    {
     "name": "stdout",
     "output_type": "stream",
     "text": [
      "(a, b)= 0\n",
      "(a, c)= 0\n",
      "(c, b)= 0\n"
     ]
    }
   ],
   "source": [
    "print(f'(a, b)= {a.dot(b)}')\n",
    "print(f'(a, c)= {a.dot(c)}')\n",
    "print(f'(c, b)= {c.dot(b)}')"
   ]
  },
  {
   "cell_type": "code",
   "execution_count": null,
   "id": "b306af11",
   "metadata": {},
   "outputs": [],
   "source": []
  }
 ],
 "metadata": {
  "kernelspec": {
   "display_name": "Python 3 (ipykernel)",
   "language": "python",
   "name": "python3"
  },
  "language_info": {
   "codemirror_mode": {
    "name": "ipython",
    "version": 3
   },
   "file_extension": ".py",
   "mimetype": "text/x-python",
   "name": "python",
   "nbconvert_exporter": "python",
   "pygments_lexer": "ipython3",
   "version": "3.9.2"
  }
 },
 "nbformat": 4,
 "nbformat_minor": 5
}
