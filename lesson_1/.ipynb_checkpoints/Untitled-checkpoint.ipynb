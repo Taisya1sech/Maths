{
 "cells": [
  {
   "cell_type": "code",
   "execution_count": 1,
   "id": "44115280",
   "metadata": {},
   "outputs": [],
   "source": [
    "import numpy as np\n",
    "from numpy.linalg import norm\n",
    "import matplotlib.pyplot as plt"
   ]
  },
  {
   "cell_type": "code",
   "execution_count": 5,
   "id": "b34be075",
   "metadata": {},
   "outputs": [],
   "source": [
    "# 1 Найти скалярное произведение векторов\n",
    "# 1.a)\n",
    "x = np.array([0, -3, 6])\n",
    "y = np.array([-4, 7, 9])"
   ]
  },
  {
   "cell_type": "code",
   "execution_count": 3,
   "id": "c2ce4fc8",
   "metadata": {},
   "outputs": [
    {
     "name": "stdout",
     "output_type": "stream",
     "text": [
      "(x, y)\t33\n"
     ]
    }
   ],
   "source": [
    "print(f'(x, y)\\t{x.dot(y)}')"
   ]
  },
  {
   "cell_type": "code",
   "execution_count": 6,
   "id": "a7c1e4ab",
   "metadata": {},
   "outputs": [],
   "source": [
    "# 1.б)\n",
    "x = np.array([7, -4, 0, 1])\n",
    "y = np.array([-3, 1, 11, 2])"
   ]
  },
  {
   "cell_type": "code",
   "execution_count": 7,
   "id": "a056eba1",
   "metadata": {},
   "outputs": [
    {
     "name": "stdout",
     "output_type": "stream",
     "text": [
      "(x, y)\t-23\n"
     ]
    }
   ],
   "source": [
    "print(f'(x, y)\\t{x.dot(y)}')"
   ]
  },
  {
   "cell_type": "code",
   "execution_count": 8,
   "id": "f458ab0e",
   "metadata": {},
   "outputs": [],
   "source": [
    "# 2 Найти нормы векторов и угол между ними\n",
    "a = np.array([4, 2, 4,])\n",
    "b = np.array([12, 3, 4,])"
   ]
  },
  {
   "cell_type": "code",
   "execution_count": 9,
   "id": "95faba92",
   "metadata": {},
   "outputs": [
    {
     "name": "stdout",
     "output_type": "stream",
     "text": [
      "l1 норма вектора a:\t10.0\n",
      "l1 норма вектора b:\t19.0\n"
     ]
    }
   ],
   "source": [
    "print(f'l1 норма вектора a:\\t{norm(a, ord=1)}') # манхэттенская норма (сумма координат по модулю)\n",
    "print(f'l1 норма вектора b:\\t{norm(b, ord=1)}') # манхэттенская норма (сумма координат по модулю)"
   ]
  },
  {
   "cell_type": "code",
   "execution_count": 10,
   "id": "415b8407",
   "metadata": {},
   "outputs": [
    {
     "name": "stdout",
     "output_type": "stream",
     "text": [
      "l2 норма вектора a:\t6.0\n",
      "l2 норма вектора b:\t13.0\n"
     ]
    }
   ],
   "source": [
    "print(f'l2 норма вектора a:\\t{norm(a, ord=2)}') # норма Евклида (сумма координат по модулю)\n",
    "print(f'l2 норма вектора b:\\t{norm(b, ord=2)}') # норма Евклида (сумма координат по модулю)"
   ]
  },
  {
   "cell_type": "code",
   "execution_count": null,
   "id": "a2702b85",
   "metadata": {},
   "outputs": [],
   "source": [
    "\n"
   ]
  }
 ],
 "metadata": {
  "kernelspec": {
   "display_name": "Python 3 (ipykernel)",
   "language": "python",
   "name": "python3"
  },
  "language_info": {
   "codemirror_mode": {
    "name": "ipython",
    "version": 3
   },
   "file_extension": ".py",
   "mimetype": "text/x-python",
   "name": "python",
   "nbconvert_exporter": "python",
   "pygments_lexer": "ipython3",
   "version": "3.9.2"
  }
 },
 "nbformat": 4,
 "nbformat_minor": 5
}
